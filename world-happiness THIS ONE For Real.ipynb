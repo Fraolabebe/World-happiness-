{
 "cells": [
  {
   "cell_type": "code",
   "execution_count": 1,
   "id": "57024575",
   "metadata": {},
   "outputs": [],
   "source": [
    "# dependecies and set up\n",
    "import pandas as pd\n",
    "import numpy as np\n",
    "from sklearn import linear_model\n",
    "from sklearn.linear_model import LinearRegression\n",
    "from sklearn.model_selection import train_test_split\n",
    "from sklearn.metrics import r2_score\n",
    "from sklearn.metrics import mean_squared_error\n",
    "import matplotlib.pyplot as plt"
   ]
  },
  {
   "cell_type": "code",
   "execution_count": 2,
   "id": "642a2827",
   "metadata": {},
   "outputs": [
    {
     "name": "stdout",
     "output_type": "stream",
     "text": [
      "[WinError 3] The system cannot find the path specified: 'C:\\\\Users\\\\rebec\\\\OneDrive\\\\Documents\\\\Resources'\n",
      "C:\\Users\\abebe\\Documents\\George Mason University\\CS-504-004 (Fall 2021)\\Project\\World-happiness-\n"
     ]
    }
   ],
   "source": [
    "cd C:\\Users\\rebec\\OneDrive\\Documents\\Resources"
   ]
  },
  {
   "cell_type": "code",
   "execution_count": 3,
   "id": "ef235a56",
   "metadata": {},
   "outputs": [
    {
     "ename": "FileNotFoundError",
     "evalue": "[Errno 2] No such file or directory: 'world-happiness-report.csv'",
     "output_type": "error",
     "traceback": [
      "\u001b[1;31m---------------------------------------------------------------------------\u001b[0m",
      "\u001b[1;31mFileNotFoundError\u001b[0m                         Traceback (most recent call last)",
      "\u001b[1;32m<ipython-input-3-671721346011>\u001b[0m in \u001b[0;36m<module>\u001b[1;34m\u001b[0m\n\u001b[0;32m      2\u001b[0m \u001b[1;33m\u001b[0m\u001b[0m\n\u001b[0;32m      3\u001b[0m \u001b[0mfile\u001b[0m \u001b[1;33m=\u001b[0m \u001b[1;34m\"world-happiness-report.csv\"\u001b[0m\u001b[1;33m\u001b[0m\u001b[1;33m\u001b[0m\u001b[0m\n\u001b[1;32m----> 4\u001b[1;33m \u001b[0mdf\u001b[0m \u001b[1;33m=\u001b[0m \u001b[0mpd\u001b[0m\u001b[1;33m.\u001b[0m\u001b[0mread_csv\u001b[0m\u001b[1;33m(\u001b[0m\u001b[0mfile\u001b[0m\u001b[1;33m)\u001b[0m\u001b[1;33m\u001b[0m\u001b[1;33m\u001b[0m\u001b[0m\n\u001b[0m\u001b[0;32m      5\u001b[0m \u001b[0mdf\u001b[0m\u001b[1;33m.\u001b[0m\u001b[0mhead\u001b[0m\u001b[1;33m(\u001b[0m\u001b[1;33m)\u001b[0m\u001b[1;33m\u001b[0m\u001b[1;33m\u001b[0m\u001b[0m\n",
      "\u001b[1;32m~\\anaconda3\\lib\\site-packages\\pandas\\io\\parsers.py\u001b[0m in \u001b[0;36mread_csv\u001b[1;34m(filepath_or_buffer, sep, delimiter, header, names, index_col, usecols, squeeze, prefix, mangle_dupe_cols, dtype, engine, converters, true_values, false_values, skipinitialspace, skiprows, skipfooter, nrows, na_values, keep_default_na, na_filter, verbose, skip_blank_lines, parse_dates, infer_datetime_format, keep_date_col, date_parser, dayfirst, cache_dates, iterator, chunksize, compression, thousands, decimal, lineterminator, quotechar, quoting, doublequote, escapechar, comment, encoding, dialect, error_bad_lines, warn_bad_lines, delim_whitespace, low_memory, memory_map, float_precision, storage_options)\u001b[0m\n\u001b[0;32m    608\u001b[0m     \u001b[0mkwds\u001b[0m\u001b[1;33m.\u001b[0m\u001b[0mupdate\u001b[0m\u001b[1;33m(\u001b[0m\u001b[0mkwds_defaults\u001b[0m\u001b[1;33m)\u001b[0m\u001b[1;33m\u001b[0m\u001b[1;33m\u001b[0m\u001b[0m\n\u001b[0;32m    609\u001b[0m \u001b[1;33m\u001b[0m\u001b[0m\n\u001b[1;32m--> 610\u001b[1;33m     \u001b[1;32mreturn\u001b[0m \u001b[0m_read\u001b[0m\u001b[1;33m(\u001b[0m\u001b[0mfilepath_or_buffer\u001b[0m\u001b[1;33m,\u001b[0m \u001b[0mkwds\u001b[0m\u001b[1;33m)\u001b[0m\u001b[1;33m\u001b[0m\u001b[1;33m\u001b[0m\u001b[0m\n\u001b[0m\u001b[0;32m    611\u001b[0m \u001b[1;33m\u001b[0m\u001b[0m\n\u001b[0;32m    612\u001b[0m \u001b[1;33m\u001b[0m\u001b[0m\n",
      "\u001b[1;32m~\\anaconda3\\lib\\site-packages\\pandas\\io\\parsers.py\u001b[0m in \u001b[0;36m_read\u001b[1;34m(filepath_or_buffer, kwds)\u001b[0m\n\u001b[0;32m    460\u001b[0m \u001b[1;33m\u001b[0m\u001b[0m\n\u001b[0;32m    461\u001b[0m     \u001b[1;31m# Create the parser.\u001b[0m\u001b[1;33m\u001b[0m\u001b[1;33m\u001b[0m\u001b[1;33m\u001b[0m\u001b[0m\n\u001b[1;32m--> 462\u001b[1;33m     \u001b[0mparser\u001b[0m \u001b[1;33m=\u001b[0m \u001b[0mTextFileReader\u001b[0m\u001b[1;33m(\u001b[0m\u001b[0mfilepath_or_buffer\u001b[0m\u001b[1;33m,\u001b[0m \u001b[1;33m**\u001b[0m\u001b[0mkwds\u001b[0m\u001b[1;33m)\u001b[0m\u001b[1;33m\u001b[0m\u001b[1;33m\u001b[0m\u001b[0m\n\u001b[0m\u001b[0;32m    463\u001b[0m \u001b[1;33m\u001b[0m\u001b[0m\n\u001b[0;32m    464\u001b[0m     \u001b[1;32mif\u001b[0m \u001b[0mchunksize\u001b[0m \u001b[1;32mor\u001b[0m \u001b[0miterator\u001b[0m\u001b[1;33m:\u001b[0m\u001b[1;33m\u001b[0m\u001b[1;33m\u001b[0m\u001b[0m\n",
      "\u001b[1;32m~\\anaconda3\\lib\\site-packages\\pandas\\io\\parsers.py\u001b[0m in \u001b[0;36m__init__\u001b[1;34m(self, f, engine, **kwds)\u001b[0m\n\u001b[0;32m    817\u001b[0m             \u001b[0mself\u001b[0m\u001b[1;33m.\u001b[0m\u001b[0moptions\u001b[0m\u001b[1;33m[\u001b[0m\u001b[1;34m\"has_index_names\"\u001b[0m\u001b[1;33m]\u001b[0m \u001b[1;33m=\u001b[0m \u001b[0mkwds\u001b[0m\u001b[1;33m[\u001b[0m\u001b[1;34m\"has_index_names\"\u001b[0m\u001b[1;33m]\u001b[0m\u001b[1;33m\u001b[0m\u001b[1;33m\u001b[0m\u001b[0m\n\u001b[0;32m    818\u001b[0m \u001b[1;33m\u001b[0m\u001b[0m\n\u001b[1;32m--> 819\u001b[1;33m         \u001b[0mself\u001b[0m\u001b[1;33m.\u001b[0m\u001b[0m_engine\u001b[0m \u001b[1;33m=\u001b[0m \u001b[0mself\u001b[0m\u001b[1;33m.\u001b[0m\u001b[0m_make_engine\u001b[0m\u001b[1;33m(\u001b[0m\u001b[0mself\u001b[0m\u001b[1;33m.\u001b[0m\u001b[0mengine\u001b[0m\u001b[1;33m)\u001b[0m\u001b[1;33m\u001b[0m\u001b[1;33m\u001b[0m\u001b[0m\n\u001b[0m\u001b[0;32m    820\u001b[0m \u001b[1;33m\u001b[0m\u001b[0m\n\u001b[0;32m    821\u001b[0m     \u001b[1;32mdef\u001b[0m \u001b[0mclose\u001b[0m\u001b[1;33m(\u001b[0m\u001b[0mself\u001b[0m\u001b[1;33m)\u001b[0m\u001b[1;33m:\u001b[0m\u001b[1;33m\u001b[0m\u001b[1;33m\u001b[0m\u001b[0m\n",
      "\u001b[1;32m~\\anaconda3\\lib\\site-packages\\pandas\\io\\parsers.py\u001b[0m in \u001b[0;36m_make_engine\u001b[1;34m(self, engine)\u001b[0m\n\u001b[0;32m   1048\u001b[0m             )\n\u001b[0;32m   1049\u001b[0m         \u001b[1;31m# error: Too many arguments for \"ParserBase\"\u001b[0m\u001b[1;33m\u001b[0m\u001b[1;33m\u001b[0m\u001b[1;33m\u001b[0m\u001b[0m\n\u001b[1;32m-> 1050\u001b[1;33m         \u001b[1;32mreturn\u001b[0m \u001b[0mmapping\u001b[0m\u001b[1;33m[\u001b[0m\u001b[0mengine\u001b[0m\u001b[1;33m]\u001b[0m\u001b[1;33m(\u001b[0m\u001b[0mself\u001b[0m\u001b[1;33m.\u001b[0m\u001b[0mf\u001b[0m\u001b[1;33m,\u001b[0m \u001b[1;33m**\u001b[0m\u001b[0mself\u001b[0m\u001b[1;33m.\u001b[0m\u001b[0moptions\u001b[0m\u001b[1;33m)\u001b[0m  \u001b[1;31m# type: ignore[call-arg]\u001b[0m\u001b[1;33m\u001b[0m\u001b[1;33m\u001b[0m\u001b[0m\n\u001b[0m\u001b[0;32m   1051\u001b[0m \u001b[1;33m\u001b[0m\u001b[0m\n\u001b[0;32m   1052\u001b[0m     \u001b[1;32mdef\u001b[0m \u001b[0m_failover_to_python\u001b[0m\u001b[1;33m(\u001b[0m\u001b[0mself\u001b[0m\u001b[1;33m)\u001b[0m\u001b[1;33m:\u001b[0m\u001b[1;33m\u001b[0m\u001b[1;33m\u001b[0m\u001b[0m\n",
      "\u001b[1;32m~\\anaconda3\\lib\\site-packages\\pandas\\io\\parsers.py\u001b[0m in \u001b[0;36m__init__\u001b[1;34m(self, src, **kwds)\u001b[0m\n\u001b[0;32m   1865\u001b[0m \u001b[1;33m\u001b[0m\u001b[0m\n\u001b[0;32m   1866\u001b[0m         \u001b[1;31m# open handles\u001b[0m\u001b[1;33m\u001b[0m\u001b[1;33m\u001b[0m\u001b[1;33m\u001b[0m\u001b[0m\n\u001b[1;32m-> 1867\u001b[1;33m         \u001b[0mself\u001b[0m\u001b[1;33m.\u001b[0m\u001b[0m_open_handles\u001b[0m\u001b[1;33m(\u001b[0m\u001b[0msrc\u001b[0m\u001b[1;33m,\u001b[0m \u001b[0mkwds\u001b[0m\u001b[1;33m)\u001b[0m\u001b[1;33m\u001b[0m\u001b[1;33m\u001b[0m\u001b[0m\n\u001b[0m\u001b[0;32m   1868\u001b[0m         \u001b[1;32massert\u001b[0m \u001b[0mself\u001b[0m\u001b[1;33m.\u001b[0m\u001b[0mhandles\u001b[0m \u001b[1;32mis\u001b[0m \u001b[1;32mnot\u001b[0m \u001b[1;32mNone\u001b[0m\u001b[1;33m\u001b[0m\u001b[1;33m\u001b[0m\u001b[0m\n\u001b[0;32m   1869\u001b[0m         \u001b[1;32mfor\u001b[0m \u001b[0mkey\u001b[0m \u001b[1;32min\u001b[0m \u001b[1;33m(\u001b[0m\u001b[1;34m\"storage_options\"\u001b[0m\u001b[1;33m,\u001b[0m \u001b[1;34m\"encoding\"\u001b[0m\u001b[1;33m,\u001b[0m \u001b[1;34m\"memory_map\"\u001b[0m\u001b[1;33m,\u001b[0m \u001b[1;34m\"compression\"\u001b[0m\u001b[1;33m)\u001b[0m\u001b[1;33m:\u001b[0m\u001b[1;33m\u001b[0m\u001b[1;33m\u001b[0m\u001b[0m\n",
      "\u001b[1;32m~\\anaconda3\\lib\\site-packages\\pandas\\io\\parsers.py\u001b[0m in \u001b[0;36m_open_handles\u001b[1;34m(self, src, kwds)\u001b[0m\n\u001b[0;32m   1360\u001b[0m         \u001b[0mLet\u001b[0m \u001b[0mthe\u001b[0m \u001b[0mreaders\u001b[0m \u001b[0mopen\u001b[0m \u001b[0mIOHanldes\u001b[0m \u001b[0mafter\u001b[0m \u001b[0mthey\u001b[0m \u001b[0mare\u001b[0m \u001b[0mdone\u001b[0m \u001b[1;32mwith\u001b[0m \u001b[0mtheir\u001b[0m \u001b[0mpotential\u001b[0m \u001b[0mraises\u001b[0m\u001b[1;33m.\u001b[0m\u001b[1;33m\u001b[0m\u001b[1;33m\u001b[0m\u001b[0m\n\u001b[0;32m   1361\u001b[0m         \"\"\"\n\u001b[1;32m-> 1362\u001b[1;33m         self.handles = get_handle(\n\u001b[0m\u001b[0;32m   1363\u001b[0m             \u001b[0msrc\u001b[0m\u001b[1;33m,\u001b[0m\u001b[1;33m\u001b[0m\u001b[1;33m\u001b[0m\u001b[0m\n\u001b[0;32m   1364\u001b[0m             \u001b[1;34m\"r\"\u001b[0m\u001b[1;33m,\u001b[0m\u001b[1;33m\u001b[0m\u001b[1;33m\u001b[0m\u001b[0m\n",
      "\u001b[1;32m~\\anaconda3\\lib\\site-packages\\pandas\\io\\common.py\u001b[0m in \u001b[0;36mget_handle\u001b[1;34m(path_or_buf, mode, encoding, compression, memory_map, is_text, errors, storage_options)\u001b[0m\n\u001b[0;32m    640\u001b[0m                 \u001b[0merrors\u001b[0m \u001b[1;33m=\u001b[0m \u001b[1;34m\"replace\"\u001b[0m\u001b[1;33m\u001b[0m\u001b[1;33m\u001b[0m\u001b[0m\n\u001b[0;32m    641\u001b[0m             \u001b[1;31m# Encoding\u001b[0m\u001b[1;33m\u001b[0m\u001b[1;33m\u001b[0m\u001b[1;33m\u001b[0m\u001b[0m\n\u001b[1;32m--> 642\u001b[1;33m             handle = open(\n\u001b[0m\u001b[0;32m    643\u001b[0m                 \u001b[0mhandle\u001b[0m\u001b[1;33m,\u001b[0m\u001b[1;33m\u001b[0m\u001b[1;33m\u001b[0m\u001b[0m\n\u001b[0;32m    644\u001b[0m                 \u001b[0mioargs\u001b[0m\u001b[1;33m.\u001b[0m\u001b[0mmode\u001b[0m\u001b[1;33m,\u001b[0m\u001b[1;33m\u001b[0m\u001b[1;33m\u001b[0m\u001b[0m\n",
      "\u001b[1;31mFileNotFoundError\u001b[0m: [Errno 2] No such file or directory: 'world-happiness-report.csv'"
     ]
    }
   ],
   "source": [
    "#file = \"Resources/world-happiness-report.csv\"\n",
    "\n",
    "file = \"world-happiness-report.csv\"\n",
    "df = pd.read_csv(file)\n",
    "df.head()"
   ]
  },
  {
   "cell_type": "code",
   "execution_count": null,
   "id": "b44ee3b6",
   "metadata": {},
   "outputs": [],
   "source": [
    "df.isnull().sum()"
   ]
  },
  {
   "cell_type": "code",
   "execution_count": 9,
   "id": "6c0d4231",
   "metadata": {},
   "outputs": [
    {
     "data": {
      "text/html": [
       "<div>\n",
       "<style scoped>\n",
       "    .dataframe tbody tr th:only-of-type {\n",
       "        vertical-align: middle;\n",
       "    }\n",
       "\n",
       "    .dataframe tbody tr th {\n",
       "        vertical-align: top;\n",
       "    }\n",
       "\n",
       "    .dataframe thead th {\n",
       "        text-align: right;\n",
       "    }\n",
       "</style>\n",
       "<table border=\"1\" class=\"dataframe\">\n",
       "  <thead>\n",
       "    <tr style=\"text-align: right;\">\n",
       "      <th></th>\n",
       "      <th>Country</th>\n",
       "      <th>year</th>\n",
       "      <th>Ladder score</th>\n",
       "      <th>GDP</th>\n",
       "      <th>Social support</th>\n",
       "      <th>Life expectancy</th>\n",
       "      <th>Freedom</th>\n",
       "      <th>Generosity</th>\n",
       "      <th>corruption</th>\n",
       "      <th>Positive affect</th>\n",
       "      <th>Negative affect</th>\n",
       "    </tr>\n",
       "  </thead>\n",
       "  <tbody>\n",
       "    <tr>\n",
       "      <th>0</th>\n",
       "      <td>Afghanistan</td>\n",
       "      <td>2008</td>\n",
       "      <td>3.724</td>\n",
       "      <td>7.370</td>\n",
       "      <td>0.451</td>\n",
       "      <td>50.80</td>\n",
       "      <td>0.718</td>\n",
       "      <td>0.168</td>\n",
       "      <td>0.882</td>\n",
       "      <td>0.518</td>\n",
       "      <td>0.258</td>\n",
       "    </tr>\n",
       "    <tr>\n",
       "      <th>1</th>\n",
       "      <td>Afghanistan</td>\n",
       "      <td>2009</td>\n",
       "      <td>4.402</td>\n",
       "      <td>7.540</td>\n",
       "      <td>0.552</td>\n",
       "      <td>51.20</td>\n",
       "      <td>0.679</td>\n",
       "      <td>0.190</td>\n",
       "      <td>0.850</td>\n",
       "      <td>0.584</td>\n",
       "      <td>0.237</td>\n",
       "    </tr>\n",
       "    <tr>\n",
       "      <th>2</th>\n",
       "      <td>Afghanistan</td>\n",
       "      <td>2010</td>\n",
       "      <td>4.758</td>\n",
       "      <td>7.647</td>\n",
       "      <td>0.539</td>\n",
       "      <td>51.60</td>\n",
       "      <td>0.600</td>\n",
       "      <td>0.121</td>\n",
       "      <td>0.707</td>\n",
       "      <td>0.618</td>\n",
       "      <td>0.275</td>\n",
       "    </tr>\n",
       "    <tr>\n",
       "      <th>3</th>\n",
       "      <td>Afghanistan</td>\n",
       "      <td>2011</td>\n",
       "      <td>3.832</td>\n",
       "      <td>7.620</td>\n",
       "      <td>0.521</td>\n",
       "      <td>51.92</td>\n",
       "      <td>0.496</td>\n",
       "      <td>0.162</td>\n",
       "      <td>0.731</td>\n",
       "      <td>0.611</td>\n",
       "      <td>0.267</td>\n",
       "    </tr>\n",
       "    <tr>\n",
       "      <th>4</th>\n",
       "      <td>Afghanistan</td>\n",
       "      <td>2012</td>\n",
       "      <td>3.783</td>\n",
       "      <td>7.705</td>\n",
       "      <td>0.521</td>\n",
       "      <td>52.24</td>\n",
       "      <td>0.531</td>\n",
       "      <td>0.236</td>\n",
       "      <td>0.776</td>\n",
       "      <td>0.710</td>\n",
       "      <td>0.268</td>\n",
       "    </tr>\n",
       "  </tbody>\n",
       "</table>\n",
       "</div>"
      ],
      "text/plain": [
       "       Country  year  Ladder score    GDP  Social support  Life expectancy  \\\n",
       "0  Afghanistan  2008         3.724  7.370           0.451            50.80   \n",
       "1  Afghanistan  2009         4.402  7.540           0.552            51.20   \n",
       "2  Afghanistan  2010         4.758  7.647           0.539            51.60   \n",
       "3  Afghanistan  2011         3.832  7.620           0.521            51.92   \n",
       "4  Afghanistan  2012         3.783  7.705           0.521            52.24   \n",
       "\n",
       "   Freedom  Generosity  corruption  Positive affect  Negative affect  \n",
       "0    0.718       0.168       0.882            0.518            0.258  \n",
       "1    0.679       0.190       0.850            0.584            0.237  \n",
       "2    0.600       0.121       0.707            0.618            0.275  \n",
       "3    0.496       0.162       0.731            0.611            0.267  \n",
       "4    0.531       0.236       0.776            0.710            0.268  "
      ]
     },
     "execution_count": 9,
     "metadata": {},
     "output_type": "execute_result"
    }
   ],
   "source": [
    "df.rename({'Country name': 'Country', 'Life Ladder':'Ladder score', 'Log GDP per capita': 'GDP', 'Healthy life expectancy at birth': 'Life expectancy', \n",
    "          'Freedom to make life choices': 'Freedom', 'Perceptions of corruption': 'corruption'}, axis=1, inplace=True)\n",
    "df.head()"
   ]
  },
  {
   "cell_type": "code",
   "execution_count": 10,
   "id": "65d24e2c",
   "metadata": {},
   "outputs": [],
   "source": [
    " df.drop(columns=['Positive affect', 'Negative affect'], axis=1, inplace=True)\n"
   ]
  },
  {
   "cell_type": "code",
   "execution_count": 11,
   "id": "b7e74a62",
   "metadata": {},
   "outputs": [
    {
     "name": "stdout",
     "output_type": "stream",
     "text": [
      "(1949, 9)\n",
      "Index(['Country', 'year', 'Ladder score', 'GDP', 'Social support',\n",
      "       'Life expectancy', 'Freedom', 'Generosity', 'corruption'],\n",
      "      dtype='object')\n"
     ]
    }
   ],
   "source": [
    "print(df.shape)\n",
    "print(df.columns)"
   ]
  },
  {
   "cell_type": "code",
   "execution_count": 12,
   "id": "c5902f1a",
   "metadata": {},
   "outputs": [
    {
     "name": "stdout",
     "output_type": "stream",
     "text": [
      "Country 166 1949\n",
      "year 16 1949\n",
      "Ladder score 1553 1949\n",
      "GDP 1500 1949\n",
      "Social support 455 1949\n",
      "Life expectancy 828 1949\n",
      "Freedom 535 1949\n",
      "Generosity 609 1949\n",
      "corruption 572 1949\n"
     ]
    }
   ],
   "source": [
    "for col in df.columns:\n",
    "    print(col, df[col].nunique(), len(df))"
   ]
  },
  {
   "cell_type": "code",
   "execution_count": 13,
   "id": "4443ebc1",
   "metadata": {},
   "outputs": [
    {
     "name": "stdout",
     "output_type": "stream",
     "text": [
      "GDP 0.018\n",
      "Social support 0.007\n",
      "Life expectancy 0.028\n",
      "Freedom 0.016\n",
      "Generosity 0.046\n",
      "corruption 0.056\n"
     ]
    }
   ],
   "source": [
    "for var in df.columns:\n",
    "    if df[var].isnull().sum()/len(df) > 0:\n",
    "        print(var, df[var].isnull().mean().round(3))\n"
   ]
  },
  {
   "cell_type": "code",
   "execution_count": 14,
   "id": "b1293101",
   "metadata": {
    "scrolled": true
   },
   "outputs": [
    {
     "data": {
      "text/plain": [
       "Country              0\n",
       "year                 0\n",
       "Ladder score         0\n",
       "GDP                 36\n",
       "Social support      13\n",
       "Life expectancy     55\n",
       "Freedom             32\n",
       "Generosity          89\n",
       "corruption         110\n",
       "dtype: int64"
      ]
     },
     "execution_count": 14,
     "metadata": {},
     "output_type": "execute_result"
    }
   ],
   "source": [
    "df.isnull().sum()"
   ]
  },
  {
   "cell_type": "code",
   "execution_count": 15,
   "id": "0b9c38af",
   "metadata": {},
   "outputs": [
    {
     "data": {
      "text/plain": [
       "(381, 9)"
      ]
     },
     "execution_count": 15,
     "metadata": {},
     "output_type": "execute_result"
    }
   ],
   "source": [
    "data = df.loc[(df['year']>=2018)]\n",
    "data.shape"
   ]
  },
  {
   "cell_type": "code",
   "execution_count": 16,
   "id": "a7438a85",
   "metadata": {},
   "outputs": [
    {
     "data": {
      "text/html": [
       "<div>\n",
       "<style scoped>\n",
       "    .dataframe tbody tr th:only-of-type {\n",
       "        vertical-align: middle;\n",
       "    }\n",
       "\n",
       "    .dataframe tbody tr th {\n",
       "        vertical-align: top;\n",
       "    }\n",
       "\n",
       "    .dataframe thead th {\n",
       "        text-align: right;\n",
       "    }\n",
       "</style>\n",
       "<table border=\"1\" class=\"dataframe\">\n",
       "  <thead>\n",
       "    <tr style=\"text-align: right;\">\n",
       "      <th></th>\n",
       "      <th>Country</th>\n",
       "      <th>year</th>\n",
       "      <th>Ladder score</th>\n",
       "      <th>GDP</th>\n",
       "      <th>Social support</th>\n",
       "      <th>Life expectancy</th>\n",
       "      <th>Freedom</th>\n",
       "      <th>Generosity</th>\n",
       "      <th>corruption</th>\n",
       "    </tr>\n",
       "  </thead>\n",
       "  <tbody>\n",
       "    <tr>\n",
       "      <th>1944</th>\n",
       "      <td>Zimbabwe</td>\n",
       "      <td>2016</td>\n",
       "      <td>3.735</td>\n",
       "      <td>7.984</td>\n",
       "      <td>0.768</td>\n",
       "      <td>54.4</td>\n",
       "      <td>0.733</td>\n",
       "      <td>-0.095</td>\n",
       "      <td>0.724</td>\n",
       "    </tr>\n",
       "    <tr>\n",
       "      <th>1945</th>\n",
       "      <td>Zimbabwe</td>\n",
       "      <td>2017</td>\n",
       "      <td>3.638</td>\n",
       "      <td>8.016</td>\n",
       "      <td>0.754</td>\n",
       "      <td>55.0</td>\n",
       "      <td>0.753</td>\n",
       "      <td>-0.098</td>\n",
       "      <td>0.751</td>\n",
       "    </tr>\n",
       "    <tr>\n",
       "      <th>1946</th>\n",
       "      <td>Zimbabwe</td>\n",
       "      <td>2018</td>\n",
       "      <td>3.616</td>\n",
       "      <td>8.049</td>\n",
       "      <td>0.775</td>\n",
       "      <td>55.6</td>\n",
       "      <td>0.763</td>\n",
       "      <td>-0.068</td>\n",
       "      <td>0.844</td>\n",
       "    </tr>\n",
       "    <tr>\n",
       "      <th>1947</th>\n",
       "      <td>Zimbabwe</td>\n",
       "      <td>2019</td>\n",
       "      <td>2.694</td>\n",
       "      <td>7.950</td>\n",
       "      <td>0.759</td>\n",
       "      <td>56.2</td>\n",
       "      <td>0.632</td>\n",
       "      <td>-0.064</td>\n",
       "      <td>0.831</td>\n",
       "    </tr>\n",
       "    <tr>\n",
       "      <th>1948</th>\n",
       "      <td>Zimbabwe</td>\n",
       "      <td>2020</td>\n",
       "      <td>3.160</td>\n",
       "      <td>7.829</td>\n",
       "      <td>0.717</td>\n",
       "      <td>56.8</td>\n",
       "      <td>0.643</td>\n",
       "      <td>-0.009</td>\n",
       "      <td>0.789</td>\n",
       "    </tr>\n",
       "  </tbody>\n",
       "</table>\n",
       "</div>"
      ],
      "text/plain": [
       "       Country  year  Ladder score    GDP  Social support  Life expectancy  \\\n",
       "1944  Zimbabwe  2016         3.735  7.984           0.768             54.4   \n",
       "1945  Zimbabwe  2017         3.638  8.016           0.754             55.0   \n",
       "1946  Zimbabwe  2018         3.616  8.049           0.775             55.6   \n",
       "1947  Zimbabwe  2019         2.694  7.950           0.759             56.2   \n",
       "1948  Zimbabwe  2020         3.160  7.829           0.717             56.8   \n",
       "\n",
       "      Freedom  Generosity  corruption  \n",
       "1944    0.733      -0.095       0.724  \n",
       "1945    0.753      -0.098       0.751  \n",
       "1946    0.763      -0.068       0.844  \n",
       "1947    0.632      -0.064       0.831  \n",
       "1948    0.643      -0.009       0.789  "
      ]
     },
     "execution_count": 16,
     "metadata": {},
     "output_type": "execute_result"
    }
   ],
   "source": [
    "df.tail()"
   ]
  },
  {
   "cell_type": "code",
   "execution_count": 17,
   "id": "2d17b842",
   "metadata": {},
   "outputs": [
    {
     "data": {
      "text/plain": [
       "Country              0\n",
       "year                 0\n",
       "Ladder score         0\n",
       "GDP                 36\n",
       "Social support      13\n",
       "Life expectancy     55\n",
       "Freedom             32\n",
       "Generosity          89\n",
       "corruption         110\n",
       "dtype: int64"
      ]
     },
     "execution_count": 17,
     "metadata": {},
     "output_type": "execute_result"
    }
   ],
   "source": [
    "df.isnull().sum()"
   ]
  },
  {
   "cell_type": "code",
   "execution_count": 18,
   "id": "8359832b",
   "metadata": {},
   "outputs": [
    {
     "name": "stdout",
     "output_type": "stream",
     "text": [
      "GDP 0.018\n",
      "Social support 0.007\n",
      "Life expectancy 0.028\n",
      "Freedom 0.016\n",
      "Generosity 0.046\n",
      "corruption 0.056\n"
     ]
    }
   ],
   "source": [
    "for var in df.columns:\n",
    "    if df[var].isnull().sum()/len(df) > 0:\n",
    "        print(var, df[var].isnull().mean().round(3))"
   ]
  },
  {
   "cell_type": "markdown",
   "id": "4a6ad27c",
   "metadata": {},
   "source": [
    "### --------------------------------------------------------------------------------------------------------------------------------------------------------"
   ]
  },
  {
   "cell_type": "code",
   "execution_count": 19,
   "id": "f0e4da9b",
   "metadata": {},
   "outputs": [
    {
     "data": {
      "text/html": [
       "<div>\n",
       "<style scoped>\n",
       "    .dataframe tbody tr th:only-of-type {\n",
       "        vertical-align: middle;\n",
       "    }\n",
       "\n",
       "    .dataframe tbody tr th {\n",
       "        vertical-align: top;\n",
       "    }\n",
       "\n",
       "    .dataframe thead th {\n",
       "        text-align: right;\n",
       "    }\n",
       "</style>\n",
       "<table border=\"1\" class=\"dataframe\">\n",
       "  <thead>\n",
       "    <tr style=\"text-align: right;\">\n",
       "      <th></th>\n",
       "      <th>Country name</th>\n",
       "      <th>Regional indicator</th>\n",
       "      <th>Ladder score</th>\n",
       "      <th>Standard error of ladder score</th>\n",
       "      <th>upperwhisker</th>\n",
       "      <th>lowerwhisker</th>\n",
       "      <th>Logged GDP per capita</th>\n",
       "      <th>Social support</th>\n",
       "      <th>Healthy life expectancy</th>\n",
       "      <th>Freedom to make life choices</th>\n",
       "      <th>Generosity</th>\n",
       "      <th>Perceptions of corruption</th>\n",
       "      <th>Ladder score in Dystopia</th>\n",
       "      <th>Explained by: Log GDP per capita</th>\n",
       "      <th>Explained by: Social support</th>\n",
       "      <th>Explained by: Healthy life expectancy</th>\n",
       "      <th>Explained by: Freedom to make life choices</th>\n",
       "      <th>Explained by: Generosity</th>\n",
       "      <th>Explained by: Perceptions of corruption</th>\n",
       "      <th>Dystopia + residual</th>\n",
       "    </tr>\n",
       "  </thead>\n",
       "  <tbody>\n",
       "    <tr>\n",
       "      <th>0</th>\n",
       "      <td>Finland</td>\n",
       "      <td>Western Europe</td>\n",
       "      <td>7.842</td>\n",
       "      <td>0.032</td>\n",
       "      <td>7.904</td>\n",
       "      <td>7.780</td>\n",
       "      <td>10.775</td>\n",
       "      <td>0.954</td>\n",
       "      <td>72.0</td>\n",
       "      <td>0.949</td>\n",
       "      <td>-0.098</td>\n",
       "      <td>0.186</td>\n",
       "      <td>2.43</td>\n",
       "      <td>1.446</td>\n",
       "      <td>1.106</td>\n",
       "      <td>0.741</td>\n",
       "      <td>0.691</td>\n",
       "      <td>0.124</td>\n",
       "      <td>0.481</td>\n",
       "      <td>3.253</td>\n",
       "    </tr>\n",
       "    <tr>\n",
       "      <th>1</th>\n",
       "      <td>Denmark</td>\n",
       "      <td>Western Europe</td>\n",
       "      <td>7.620</td>\n",
       "      <td>0.035</td>\n",
       "      <td>7.687</td>\n",
       "      <td>7.552</td>\n",
       "      <td>10.933</td>\n",
       "      <td>0.954</td>\n",
       "      <td>72.7</td>\n",
       "      <td>0.946</td>\n",
       "      <td>0.030</td>\n",
       "      <td>0.179</td>\n",
       "      <td>2.43</td>\n",
       "      <td>1.502</td>\n",
       "      <td>1.108</td>\n",
       "      <td>0.763</td>\n",
       "      <td>0.686</td>\n",
       "      <td>0.208</td>\n",
       "      <td>0.485</td>\n",
       "      <td>2.868</td>\n",
       "    </tr>\n",
       "    <tr>\n",
       "      <th>2</th>\n",
       "      <td>Switzerland</td>\n",
       "      <td>Western Europe</td>\n",
       "      <td>7.571</td>\n",
       "      <td>0.036</td>\n",
       "      <td>7.643</td>\n",
       "      <td>7.500</td>\n",
       "      <td>11.117</td>\n",
       "      <td>0.942</td>\n",
       "      <td>74.4</td>\n",
       "      <td>0.919</td>\n",
       "      <td>0.025</td>\n",
       "      <td>0.292</td>\n",
       "      <td>2.43</td>\n",
       "      <td>1.566</td>\n",
       "      <td>1.079</td>\n",
       "      <td>0.816</td>\n",
       "      <td>0.653</td>\n",
       "      <td>0.204</td>\n",
       "      <td>0.413</td>\n",
       "      <td>2.839</td>\n",
       "    </tr>\n",
       "    <tr>\n",
       "      <th>3</th>\n",
       "      <td>Iceland</td>\n",
       "      <td>Western Europe</td>\n",
       "      <td>7.554</td>\n",
       "      <td>0.059</td>\n",
       "      <td>7.670</td>\n",
       "      <td>7.438</td>\n",
       "      <td>10.878</td>\n",
       "      <td>0.983</td>\n",
       "      <td>73.0</td>\n",
       "      <td>0.955</td>\n",
       "      <td>0.160</td>\n",
       "      <td>0.673</td>\n",
       "      <td>2.43</td>\n",
       "      <td>1.482</td>\n",
       "      <td>1.172</td>\n",
       "      <td>0.772</td>\n",
       "      <td>0.698</td>\n",
       "      <td>0.293</td>\n",
       "      <td>0.170</td>\n",
       "      <td>2.967</td>\n",
       "    </tr>\n",
       "    <tr>\n",
       "      <th>4</th>\n",
       "      <td>Netherlands</td>\n",
       "      <td>Western Europe</td>\n",
       "      <td>7.464</td>\n",
       "      <td>0.027</td>\n",
       "      <td>7.518</td>\n",
       "      <td>7.410</td>\n",
       "      <td>10.932</td>\n",
       "      <td>0.942</td>\n",
       "      <td>72.4</td>\n",
       "      <td>0.913</td>\n",
       "      <td>0.175</td>\n",
       "      <td>0.338</td>\n",
       "      <td>2.43</td>\n",
       "      <td>1.501</td>\n",
       "      <td>1.079</td>\n",
       "      <td>0.753</td>\n",
       "      <td>0.647</td>\n",
       "      <td>0.302</td>\n",
       "      <td>0.384</td>\n",
       "      <td>2.798</td>\n",
       "    </tr>\n",
       "  </tbody>\n",
       "</table>\n",
       "</div>"
      ],
      "text/plain": [
       "  Country name Regional indicator  Ladder score  \\\n",
       "0      Finland     Western Europe         7.842   \n",
       "1      Denmark     Western Europe         7.620   \n",
       "2  Switzerland     Western Europe         7.571   \n",
       "3      Iceland     Western Europe         7.554   \n",
       "4  Netherlands     Western Europe         7.464   \n",
       "\n",
       "   Standard error of ladder score  upperwhisker  lowerwhisker  \\\n",
       "0                           0.032         7.904         7.780   \n",
       "1                           0.035         7.687         7.552   \n",
       "2                           0.036         7.643         7.500   \n",
       "3                           0.059         7.670         7.438   \n",
       "4                           0.027         7.518         7.410   \n",
       "\n",
       "   Logged GDP per capita  Social support  Healthy life expectancy  \\\n",
       "0                 10.775           0.954                     72.0   \n",
       "1                 10.933           0.954                     72.7   \n",
       "2                 11.117           0.942                     74.4   \n",
       "3                 10.878           0.983                     73.0   \n",
       "4                 10.932           0.942                     72.4   \n",
       "\n",
       "   Freedom to make life choices  Generosity  Perceptions of corruption  \\\n",
       "0                         0.949      -0.098                      0.186   \n",
       "1                         0.946       0.030                      0.179   \n",
       "2                         0.919       0.025                      0.292   \n",
       "3                         0.955       0.160                      0.673   \n",
       "4                         0.913       0.175                      0.338   \n",
       "\n",
       "   Ladder score in Dystopia  Explained by: Log GDP per capita  \\\n",
       "0                      2.43                             1.446   \n",
       "1                      2.43                             1.502   \n",
       "2                      2.43                             1.566   \n",
       "3                      2.43                             1.482   \n",
       "4                      2.43                             1.501   \n",
       "\n",
       "   Explained by: Social support  Explained by: Healthy life expectancy  \\\n",
       "0                         1.106                                  0.741   \n",
       "1                         1.108                                  0.763   \n",
       "2                         1.079                                  0.816   \n",
       "3                         1.172                                  0.772   \n",
       "4                         1.079                                  0.753   \n",
       "\n",
       "   Explained by: Freedom to make life choices  Explained by: Generosity  \\\n",
       "0                                       0.691                     0.124   \n",
       "1                                       0.686                     0.208   \n",
       "2                                       0.653                     0.204   \n",
       "3                                       0.698                     0.293   \n",
       "4                                       0.647                     0.302   \n",
       "\n",
       "   Explained by: Perceptions of corruption  Dystopia + residual  \n",
       "0                                    0.481                3.253  \n",
       "1                                    0.485                2.868  \n",
       "2                                    0.413                2.839  \n",
       "3                                    0.170                2.967  \n",
       "4                                    0.384                2.798  "
      ]
     },
     "execution_count": 19,
     "metadata": {},
     "output_type": "execute_result"
    }
   ],
   "source": [
    "#df1 = pd.read_csv(\"Resources/world-happiness-report-2021.csv\")\n",
    "#df1.head()\n",
    "\n",
    "df1 = pd.read_csv(\"world-happiness-report-2021.csv\")\n",
    "df1.head()"
   ]
  },
  {
   "cell_type": "code",
   "execution_count": 20,
   "id": "ace6f2ef",
   "metadata": {},
   "outputs": [
    {
     "data": {
      "text/plain": [
       "Country name                      0\n",
       "Regional indicator                0\n",
       "Ladder score                      0\n",
       "Standard error of ladder score    0\n",
       "upperwhisker                      0\n",
       "dtype: int64"
      ]
     },
     "execution_count": 20,
     "metadata": {},
     "output_type": "execute_result"
    }
   ],
   "source": [
    "df1.isnull().sum().head()"
   ]
  },
  {
   "cell_type": "code",
   "execution_count": 21,
   "id": "2950f76e",
   "metadata": {},
   "outputs": [
    {
     "data": {
      "text/plain": [
       "(149, 20)"
      ]
     },
     "execution_count": 21,
     "metadata": {},
     "output_type": "execute_result"
    }
   ],
   "source": [
    "df1.shape"
   ]
  },
  {
   "cell_type": "code",
   "execution_count": null,
   "id": "bdac65e4",
   "metadata": {},
   "outputs": [],
   "source": []
  },
  {
   "cell_type": "code",
   "execution_count": 22,
   "id": "904fdcf0",
   "metadata": {},
   "outputs": [],
   "source": [
    "df1.drop(columns=['upperwhisker','Regional indicator', 'lowerwhisker','Explained by: Log GDP per capita', 'Explained by: Social support',\n",
    "                  'Explained by: Healthy life expectancy', 'Explained by: Freedom to make life choices', \n",
    "                  'Explained by: Freedom to make life choices', 'Explained by: Freedom to make life choices',\n",
    "                  'Standard error of ladder score',\n",
    "                  'Explained by: Generosity', 'Explained by: Generosity', 'Explained by: Perceptions of corruption',\n",
    "                  'Dystopia + residual', 'Ladder score in Dystopia'], axis=1, inplace=True)"
   ]
  },
  {
   "cell_type": "code",
   "execution_count": 23,
   "id": "ecddd10e",
   "metadata": {},
   "outputs": [
    {
     "data": {
      "text/html": [
       "<div>\n",
       "<style scoped>\n",
       "    .dataframe tbody tr th:only-of-type {\n",
       "        vertical-align: middle;\n",
       "    }\n",
       "\n",
       "    .dataframe tbody tr th {\n",
       "        vertical-align: top;\n",
       "    }\n",
       "\n",
       "    .dataframe thead th {\n",
       "        text-align: right;\n",
       "    }\n",
       "</style>\n",
       "<table border=\"1\" class=\"dataframe\">\n",
       "  <thead>\n",
       "    <tr style=\"text-align: right;\">\n",
       "      <th></th>\n",
       "      <th>Country name</th>\n",
       "      <th>Ladder score</th>\n",
       "      <th>Logged GDP per capita</th>\n",
       "      <th>Social support</th>\n",
       "      <th>Healthy life expectancy</th>\n",
       "      <th>Freedom to make life choices</th>\n",
       "      <th>Generosity</th>\n",
       "      <th>Perceptions of corruption</th>\n",
       "    </tr>\n",
       "  </thead>\n",
       "  <tbody>\n",
       "    <tr>\n",
       "      <th>0</th>\n",
       "      <td>Finland</td>\n",
       "      <td>7.842</td>\n",
       "      <td>10.775</td>\n",
       "      <td>0.954</td>\n",
       "      <td>72.0</td>\n",
       "      <td>0.949</td>\n",
       "      <td>-0.098</td>\n",
       "      <td>0.186</td>\n",
       "    </tr>\n",
       "    <tr>\n",
       "      <th>1</th>\n",
       "      <td>Denmark</td>\n",
       "      <td>7.620</td>\n",
       "      <td>10.933</td>\n",
       "      <td>0.954</td>\n",
       "      <td>72.7</td>\n",
       "      <td>0.946</td>\n",
       "      <td>0.030</td>\n",
       "      <td>0.179</td>\n",
       "    </tr>\n",
       "    <tr>\n",
       "      <th>2</th>\n",
       "      <td>Switzerland</td>\n",
       "      <td>7.571</td>\n",
       "      <td>11.117</td>\n",
       "      <td>0.942</td>\n",
       "      <td>74.4</td>\n",
       "      <td>0.919</td>\n",
       "      <td>0.025</td>\n",
       "      <td>0.292</td>\n",
       "    </tr>\n",
       "    <tr>\n",
       "      <th>3</th>\n",
       "      <td>Iceland</td>\n",
       "      <td>7.554</td>\n",
       "      <td>10.878</td>\n",
       "      <td>0.983</td>\n",
       "      <td>73.0</td>\n",
       "      <td>0.955</td>\n",
       "      <td>0.160</td>\n",
       "      <td>0.673</td>\n",
       "    </tr>\n",
       "    <tr>\n",
       "      <th>4</th>\n",
       "      <td>Netherlands</td>\n",
       "      <td>7.464</td>\n",
       "      <td>10.932</td>\n",
       "      <td>0.942</td>\n",
       "      <td>72.4</td>\n",
       "      <td>0.913</td>\n",
       "      <td>0.175</td>\n",
       "      <td>0.338</td>\n",
       "    </tr>\n",
       "  </tbody>\n",
       "</table>\n",
       "</div>"
      ],
      "text/plain": [
       "  Country name  Ladder score  Logged GDP per capita  Social support  \\\n",
       "0      Finland         7.842                 10.775           0.954   \n",
       "1      Denmark         7.620                 10.933           0.954   \n",
       "2  Switzerland         7.571                 11.117           0.942   \n",
       "3      Iceland         7.554                 10.878           0.983   \n",
       "4  Netherlands         7.464                 10.932           0.942   \n",
       "\n",
       "   Healthy life expectancy  Freedom to make life choices  Generosity  \\\n",
       "0                     72.0                         0.949      -0.098   \n",
       "1                     72.7                         0.946       0.030   \n",
       "2                     74.4                         0.919       0.025   \n",
       "3                     73.0                         0.955       0.160   \n",
       "4                     72.4                         0.913       0.175   \n",
       "\n",
       "   Perceptions of corruption  \n",
       "0                      0.186  \n",
       "1                      0.179  \n",
       "2                      0.292  \n",
       "3                      0.673  \n",
       "4                      0.338  "
      ]
     },
     "execution_count": 23,
     "metadata": {},
     "output_type": "execute_result"
    }
   ],
   "source": [
    "df1.head()"
   ]
  },
  {
   "cell_type": "code",
   "execution_count": 24,
   "id": "3889d9f3",
   "metadata": {},
   "outputs": [
    {
     "data": {
      "text/html": [
       "<div>\n",
       "<style scoped>\n",
       "    .dataframe tbody tr th:only-of-type {\n",
       "        vertical-align: middle;\n",
       "    }\n",
       "\n",
       "    .dataframe tbody tr th {\n",
       "        vertical-align: top;\n",
       "    }\n",
       "\n",
       "    .dataframe thead th {\n",
       "        text-align: right;\n",
       "    }\n",
       "</style>\n",
       "<table border=\"1\" class=\"dataframe\">\n",
       "  <thead>\n",
       "    <tr style=\"text-align: right;\">\n",
       "      <th></th>\n",
       "      <th>Country</th>\n",
       "      <th>Ladder score</th>\n",
       "      <th>GDP</th>\n",
       "      <th>Social support</th>\n",
       "      <th>Life expectancy</th>\n",
       "      <th>Freedom</th>\n",
       "      <th>Generosity</th>\n",
       "      <th>corruption</th>\n",
       "    </tr>\n",
       "  </thead>\n",
       "  <tbody>\n",
       "    <tr>\n",
       "      <th>0</th>\n",
       "      <td>Finland</td>\n",
       "      <td>7.842</td>\n",
       "      <td>10.775</td>\n",
       "      <td>0.954</td>\n",
       "      <td>72.0</td>\n",
       "      <td>0.949</td>\n",
       "      <td>-0.098</td>\n",
       "      <td>0.186</td>\n",
       "    </tr>\n",
       "    <tr>\n",
       "      <th>1</th>\n",
       "      <td>Denmark</td>\n",
       "      <td>7.620</td>\n",
       "      <td>10.933</td>\n",
       "      <td>0.954</td>\n",
       "      <td>72.7</td>\n",
       "      <td>0.946</td>\n",
       "      <td>0.030</td>\n",
       "      <td>0.179</td>\n",
       "    </tr>\n",
       "    <tr>\n",
       "      <th>2</th>\n",
       "      <td>Switzerland</td>\n",
       "      <td>7.571</td>\n",
       "      <td>11.117</td>\n",
       "      <td>0.942</td>\n",
       "      <td>74.4</td>\n",
       "      <td>0.919</td>\n",
       "      <td>0.025</td>\n",
       "      <td>0.292</td>\n",
       "    </tr>\n",
       "    <tr>\n",
       "      <th>3</th>\n",
       "      <td>Iceland</td>\n",
       "      <td>7.554</td>\n",
       "      <td>10.878</td>\n",
       "      <td>0.983</td>\n",
       "      <td>73.0</td>\n",
       "      <td>0.955</td>\n",
       "      <td>0.160</td>\n",
       "      <td>0.673</td>\n",
       "    </tr>\n",
       "    <tr>\n",
       "      <th>4</th>\n",
       "      <td>Netherlands</td>\n",
       "      <td>7.464</td>\n",
       "      <td>10.932</td>\n",
       "      <td>0.942</td>\n",
       "      <td>72.4</td>\n",
       "      <td>0.913</td>\n",
       "      <td>0.175</td>\n",
       "      <td>0.338</td>\n",
       "    </tr>\n",
       "  </tbody>\n",
       "</table>\n",
       "</div>"
      ],
      "text/plain": [
       "       Country  Ladder score     GDP  Social support  Life expectancy  \\\n",
       "0      Finland         7.842  10.775           0.954             72.0   \n",
       "1      Denmark         7.620  10.933           0.954             72.7   \n",
       "2  Switzerland         7.571  11.117           0.942             74.4   \n",
       "3      Iceland         7.554  10.878           0.983             73.0   \n",
       "4  Netherlands         7.464  10.932           0.942             72.4   \n",
       "\n",
       "   Freedom  Generosity  corruption  \n",
       "0    0.949      -0.098       0.186  \n",
       "1    0.946       0.030       0.179  \n",
       "2    0.919       0.025       0.292  \n",
       "3    0.955       0.160       0.673  \n",
       "4    0.913       0.175       0.338  "
      ]
     },
     "execution_count": 24,
     "metadata": {},
     "output_type": "execute_result"
    }
   ],
   "source": [
    "df1.rename({'Country name': 'Country', 'Logged GDP per capita': 'GDP', 'Healthy life expectancy': 'Life expectancy', \n",
    "          'Freedom to make life choices': 'Freedom', 'Perceptions of corruption': 'corruption'}, axis=1, inplace=True)\n",
    "df1.head()"
   ]
  },
  {
   "cell_type": "code",
   "execution_count": 25,
   "id": "e7cc8de5",
   "metadata": {},
   "outputs": [
    {
     "data": {
      "text/html": [
       "<div>\n",
       "<style scoped>\n",
       "    .dataframe tbody tr th:only-of-type {\n",
       "        vertical-align: middle;\n",
       "    }\n",
       "\n",
       "    .dataframe tbody tr th {\n",
       "        vertical-align: top;\n",
       "    }\n",
       "\n",
       "    .dataframe thead th {\n",
       "        text-align: right;\n",
       "    }\n",
       "</style>\n",
       "<table border=\"1\" class=\"dataframe\">\n",
       "  <thead>\n",
       "    <tr style=\"text-align: right;\">\n",
       "      <th></th>\n",
       "      <th>year</th>\n",
       "      <th>Ladder score</th>\n",
       "      <th>GDP</th>\n",
       "      <th>Social support</th>\n",
       "      <th>Life expectancy</th>\n",
       "      <th>Freedom</th>\n",
       "      <th>Generosity</th>\n",
       "      <th>corruption</th>\n",
       "    </tr>\n",
       "    <tr>\n",
       "      <th>Country</th>\n",
       "      <th></th>\n",
       "      <th></th>\n",
       "      <th></th>\n",
       "      <th></th>\n",
       "      <th></th>\n",
       "      <th></th>\n",
       "      <th></th>\n",
       "      <th></th>\n",
       "    </tr>\n",
       "  </thead>\n",
       "  <tbody>\n",
       "    <tr>\n",
       "      <th>Afghanistan</th>\n",
       "      <td>2008.0</td>\n",
       "      <td>3.724</td>\n",
       "      <td>7.370</td>\n",
       "      <td>0.451</td>\n",
       "      <td>50.80</td>\n",
       "      <td>0.718</td>\n",
       "      <td>0.168</td>\n",
       "      <td>0.882</td>\n",
       "    </tr>\n",
       "    <tr>\n",
       "      <th>Afghanistan</th>\n",
       "      <td>2009.0</td>\n",
       "      <td>4.402</td>\n",
       "      <td>7.540</td>\n",
       "      <td>0.552</td>\n",
       "      <td>51.20</td>\n",
       "      <td>0.679</td>\n",
       "      <td>0.190</td>\n",
       "      <td>0.850</td>\n",
       "    </tr>\n",
       "    <tr>\n",
       "      <th>Afghanistan</th>\n",
       "      <td>2010.0</td>\n",
       "      <td>4.758</td>\n",
       "      <td>7.647</td>\n",
       "      <td>0.539</td>\n",
       "      <td>51.60</td>\n",
       "      <td>0.600</td>\n",
       "      <td>0.121</td>\n",
       "      <td>0.707</td>\n",
       "    </tr>\n",
       "    <tr>\n",
       "      <th>Afghanistan</th>\n",
       "      <td>2011.0</td>\n",
       "      <td>3.832</td>\n",
       "      <td>7.620</td>\n",
       "      <td>0.521</td>\n",
       "      <td>51.92</td>\n",
       "      <td>0.496</td>\n",
       "      <td>0.162</td>\n",
       "      <td>0.731</td>\n",
       "    </tr>\n",
       "    <tr>\n",
       "      <th>Afghanistan</th>\n",
       "      <td>2012.0</td>\n",
       "      <td>3.783</td>\n",
       "      <td>7.705</td>\n",
       "      <td>0.521</td>\n",
       "      <td>52.24</td>\n",
       "      <td>0.531</td>\n",
       "      <td>0.236</td>\n",
       "      <td>0.776</td>\n",
       "    </tr>\n",
       "  </tbody>\n",
       "</table>\n",
       "</div>"
      ],
      "text/plain": [
       "               year  Ladder score    GDP  Social support  Life expectancy  \\\n",
       "Country                                                                     \n",
       "Afghanistan  2008.0         3.724  7.370           0.451            50.80   \n",
       "Afghanistan  2009.0         4.402  7.540           0.552            51.20   \n",
       "Afghanistan  2010.0         4.758  7.647           0.539            51.60   \n",
       "Afghanistan  2011.0         3.832  7.620           0.521            51.92   \n",
       "Afghanistan  2012.0         3.783  7.705           0.521            52.24   \n",
       "\n",
       "             Freedom  Generosity  corruption  \n",
       "Country                                       \n",
       "Afghanistan    0.718       0.168       0.882  \n",
       "Afghanistan    0.679       0.190       0.850  \n",
       "Afghanistan    0.600       0.121       0.707  \n",
       "Afghanistan    0.496       0.162       0.731  \n",
       "Afghanistan    0.531       0.236       0.776  "
      ]
     },
     "execution_count": 25,
     "metadata": {},
     "output_type": "execute_result"
    }
   ],
   "source": [
    "frames = [df, df1]\n",
    "df2 = pd.concat(frames)\n",
    "df2['year'] = df2['year'].fillna(2021)\n",
    "data = df2.set_index('Country')\n",
    "data.head()"
   ]
  },
  {
   "cell_type": "code",
   "execution_count": 26,
   "id": "eb312ca7",
   "metadata": {},
   "outputs": [
    {
     "data": {
      "text/html": [
       "<div>\n",
       "<style scoped>\n",
       "    .dataframe tbody tr th:only-of-type {\n",
       "        vertical-align: middle;\n",
       "    }\n",
       "\n",
       "    .dataframe tbody tr th {\n",
       "        vertical-align: top;\n",
       "    }\n",
       "\n",
       "    .dataframe thead th {\n",
       "        text-align: right;\n",
       "    }\n",
       "</style>\n",
       "<table border=\"1\" class=\"dataframe\">\n",
       "  <thead>\n",
       "    <tr style=\"text-align: right;\">\n",
       "      <th></th>\n",
       "      <th>Country</th>\n",
       "      <th>year</th>\n",
       "      <th>Ladder score</th>\n",
       "      <th>GDP</th>\n",
       "      <th>Social support</th>\n",
       "      <th>Life expectancy</th>\n",
       "      <th>Freedom</th>\n",
       "      <th>Generosity</th>\n",
       "      <th>corruption</th>\n",
       "    </tr>\n",
       "  </thead>\n",
       "  <tbody>\n",
       "    <tr>\n",
       "      <th>144</th>\n",
       "      <td>Lesotho</td>\n",
       "      <td>2021.0</td>\n",
       "      <td>3.512</td>\n",
       "      <td>7.926</td>\n",
       "      <td>0.787</td>\n",
       "      <td>48.700</td>\n",
       "      <td>0.715</td>\n",
       "      <td>-0.131</td>\n",
       "      <td>0.915</td>\n",
       "    </tr>\n",
       "    <tr>\n",
       "      <th>145</th>\n",
       "      <td>Botswana</td>\n",
       "      <td>2021.0</td>\n",
       "      <td>3.467</td>\n",
       "      <td>9.782</td>\n",
       "      <td>0.784</td>\n",
       "      <td>59.269</td>\n",
       "      <td>0.824</td>\n",
       "      <td>-0.246</td>\n",
       "      <td>0.801</td>\n",
       "    </tr>\n",
       "    <tr>\n",
       "      <th>146</th>\n",
       "      <td>Rwanda</td>\n",
       "      <td>2021.0</td>\n",
       "      <td>3.415</td>\n",
       "      <td>7.676</td>\n",
       "      <td>0.552</td>\n",
       "      <td>61.400</td>\n",
       "      <td>0.897</td>\n",
       "      <td>0.061</td>\n",
       "      <td>0.167</td>\n",
       "    </tr>\n",
       "    <tr>\n",
       "      <th>147</th>\n",
       "      <td>Zimbabwe</td>\n",
       "      <td>2021.0</td>\n",
       "      <td>3.145</td>\n",
       "      <td>7.943</td>\n",
       "      <td>0.750</td>\n",
       "      <td>56.201</td>\n",
       "      <td>0.677</td>\n",
       "      <td>-0.047</td>\n",
       "      <td>0.821</td>\n",
       "    </tr>\n",
       "    <tr>\n",
       "      <th>148</th>\n",
       "      <td>Afghanistan</td>\n",
       "      <td>2021.0</td>\n",
       "      <td>2.523</td>\n",
       "      <td>7.695</td>\n",
       "      <td>0.463</td>\n",
       "      <td>52.493</td>\n",
       "      <td>0.382</td>\n",
       "      <td>-0.102</td>\n",
       "      <td>0.924</td>\n",
       "    </tr>\n",
       "  </tbody>\n",
       "</table>\n",
       "</div>"
      ],
      "text/plain": [
       "         Country    year  Ladder score    GDP  Social support  \\\n",
       "144      Lesotho  2021.0         3.512  7.926           0.787   \n",
       "145     Botswana  2021.0         3.467  9.782           0.784   \n",
       "146       Rwanda  2021.0         3.415  7.676           0.552   \n",
       "147     Zimbabwe  2021.0         3.145  7.943           0.750   \n",
       "148  Afghanistan  2021.0         2.523  7.695           0.463   \n",
       "\n",
       "     Life expectancy  Freedom  Generosity  corruption  \n",
       "144           48.700    0.715      -0.131       0.915  \n",
       "145           59.269    0.824      -0.246       0.801  \n",
       "146           61.400    0.897       0.061       0.167  \n",
       "147           56.201    0.677      -0.047       0.821  \n",
       "148           52.493    0.382      -0.102       0.924  "
      ]
     },
     "execution_count": 26,
     "metadata": {},
     "output_type": "execute_result"
    }
   ],
   "source": [
    "df2.loc[(df2['year']>=2018)].tail()\n"
   ]
  },
  {
   "cell_type": "code",
   "execution_count": 27,
   "id": "76cae92d",
   "metadata": {},
   "outputs": [
    {
     "data": {
      "text/html": [
       "<style  type=\"text/css\" >\n",
       "#T_94581_row0_col0,#T_94581_row1_col1,#T_94581_row2_col2,#T_94581_row3_col3,#T_94581_row4_col4,#T_94581_row5_col5,#T_94581_row6_col6{\n",
       "            background-color:  #ffffff;\n",
       "            color:  #000000;\n",
       "        }#T_94581_row0_col1{\n",
       "            background-color:  #d8d8d8;\n",
       "            color:  #000000;\n",
       "        }#T_94581_row0_col2{\n",
       "            background-color:  #c3c3c3;\n",
       "            color:  #000000;\n",
       "        }#T_94581_row0_col3{\n",
       "            background-color:  #cfcfcf;\n",
       "            color:  #000000;\n",
       "        }#T_94581_row0_col4{\n",
       "            background-color:  #aeaeae;\n",
       "            color:  #000000;\n",
       "        }#T_94581_row0_col5{\n",
       "            background-color:  #5c5c5c;\n",
       "            color:  #f1f1f1;\n",
       "        }#T_94581_row0_col6{\n",
       "            background-color:  #080808;\n",
       "            color:  #f1f1f1;\n",
       "        }#T_94581_row1_col0{\n",
       "            background-color:  #dadada;\n",
       "            color:  #000000;\n",
       "        }#T_94581_row1_col2{\n",
       "            background-color:  #c1c1c1;\n",
       "            color:  #000000;\n",
       "        }#T_94581_row1_col3,#T_94581_row3_col1{\n",
       "            background-color:  #e3e3e3;\n",
       "            color:  #000000;\n",
       "        }#T_94581_row1_col4{\n",
       "            background-color:  #939393;\n",
       "            color:  #000000;\n",
       "        }#T_94581_row1_col5{\n",
       "            background-color:  #343434;\n",
       "            color:  #f1f1f1;\n",
       "        }#T_94581_row1_col6{\n",
       "            background-color:  #161616;\n",
       "            color:  #f1f1f1;\n",
       "        }#T_94581_row2_col0{\n",
       "            background-color:  #cccccc;\n",
       "            color:  #000000;\n",
       "        }#T_94581_row2_col1{\n",
       "            background-color:  #c7c7c7;\n",
       "            color:  #000000;\n",
       "        }#T_94581_row2_col3{\n",
       "            background-color:  #b6b6b6;\n",
       "            color:  #000000;\n",
       "        }#T_94581_row2_col4{\n",
       "            background-color:  #999999;\n",
       "            color:  #000000;\n",
       "        }#T_94581_row2_col5{\n",
       "            background-color:  #424242;\n",
       "            color:  #f1f1f1;\n",
       "        }#T_94581_row2_col6{\n",
       "            background-color:  #2c2c2c;\n",
       "            color:  #f1f1f1;\n",
       "        }#T_94581_row3_col0{\n",
       "            background-color:  #d3d3d3;\n",
       "            color:  #000000;\n",
       "        }#T_94581_row3_col2{\n",
       "            background-color:  #b0b0b0;\n",
       "            color:  #000000;\n",
       "        }#T_94581_row3_col4{\n",
       "            background-color:  #989898;\n",
       "            color:  #000000;\n",
       "        }#T_94581_row3_col5{\n",
       "            background-color:  #3a3a3a;\n",
       "            color:  #f1f1f1;\n",
       "        }#T_94581_row3_col6{\n",
       "            background-color:  #191919;\n",
       "            color:  #f1f1f1;\n",
       "        }#T_94581_row4_col0{\n",
       "            background-color:  #ababab;\n",
       "            color:  #000000;\n",
       "        }#T_94581_row4_col1{\n",
       "            background-color:  #888888;\n",
       "            color:  #000000;\n",
       "        }#T_94581_row4_col2{\n",
       "            background-color:  #848484;\n",
       "            color:  #000000;\n",
       "        }#T_94581_row4_col3{\n",
       "            background-color:  #8c8c8c;\n",
       "            color:  #000000;\n",
       "        }#T_94581_row4_col5{\n",
       "            background-color:  #787878;\n",
       "            color:  #000000;\n",
       "        }#T_94581_row4_col6,#T_94581_row6_col0,#T_94581_row6_col1,#T_94581_row6_col2,#T_94581_row6_col3,#T_94581_row6_col4,#T_94581_row6_col5{\n",
       "            background-color:  #000000;\n",
       "            color:  #f1f1f1;\n",
       "        }#T_94581_row5_col0{\n",
       "            background-color:  #6d6d6d;\n",
       "            color:  #000000;\n",
       "        }#T_94581_row5_col1{\n",
       "            background-color:  #3e3e3e;\n",
       "            color:  #f1f1f1;\n",
       "        }#T_94581_row5_col2{\n",
       "            background-color:  #383838;\n",
       "            color:  #f1f1f1;\n",
       "        }#T_94581_row5_col3{\n",
       "            background-color:  #414141;\n",
       "            color:  #f1f1f1;\n",
       "        }#T_94581_row5_col4{\n",
       "            background-color:  #8a8a8a;\n",
       "            color:  #000000;\n",
       "        }#T_94581_row5_col6{\n",
       "            background-color:  #222222;\n",
       "            color:  #f1f1f1;\n",
       "        }</style><table id=\"T_94581_\" ><thead>    <tr>        <th class=\"blank level0\" ></th>        <th class=\"col_heading level0 col0\" >Ladder score</th>        <th class=\"col_heading level0 col1\" >GDP</th>        <th class=\"col_heading level0 col2\" >Social support</th>        <th class=\"col_heading level0 col3\" >Life expectancy</th>        <th class=\"col_heading level0 col4\" >Freedom</th>        <th class=\"col_heading level0 col5\" >Generosity</th>        <th class=\"col_heading level0 col6\" >corruption</th>    </tr></thead><tbody>\n",
       "                <tr>\n",
       "                        <th id=\"T_94581_level0_row0\" class=\"row_heading level0 row0\" >Ladder score</th>\n",
       "                        <td id=\"T_94581_row0_col0\" class=\"data row0 col0\" >1.000000</td>\n",
       "                        <td id=\"T_94581_row0_col1\" class=\"data row0 col1\" >0.790000</td>\n",
       "                        <td id=\"T_94581_row0_col2\" class=\"data row0 col2\" >0.710000</td>\n",
       "                        <td id=\"T_94581_row0_col3\" class=\"data row0 col3\" >0.750000</td>\n",
       "                        <td id=\"T_94581_row0_col4\" class=\"data row0 col4\" >0.530000</td>\n",
       "                        <td id=\"T_94581_row0_col5\" class=\"data row0 col5\" >0.180000</td>\n",
       "                        <td id=\"T_94581_row0_col6\" class=\"data row0 col6\" >-0.430000</td>\n",
       "            </tr>\n",
       "            <tr>\n",
       "                        <th id=\"T_94581_level0_row1\" class=\"row_heading level0 row1\" >GDP</th>\n",
       "                        <td id=\"T_94581_row1_col0\" class=\"data row1 col0\" >0.790000</td>\n",
       "                        <td id=\"T_94581_row1_col1\" class=\"data row1 col1\" >1.000000</td>\n",
       "                        <td id=\"T_94581_row1_col2\" class=\"data row1 col2\" >0.700000</td>\n",
       "                        <td id=\"T_94581_row1_col3\" class=\"data row1 col3\" >0.850000</td>\n",
       "                        <td id=\"T_94581_row1_col4\" class=\"data row1 col4\" >0.370000</td>\n",
       "                        <td id=\"T_94581_row1_col5\" class=\"data row1 col5\" >-0.020000</td>\n",
       "                        <td id=\"T_94581_row1_col6\" class=\"data row1 col6\" >-0.350000</td>\n",
       "            </tr>\n",
       "            <tr>\n",
       "                        <th id=\"T_94581_level0_row2\" class=\"row_heading level0 row2\" >Social support</th>\n",
       "                        <td id=\"T_94581_row2_col0\" class=\"data row2 col0\" >0.710000</td>\n",
       "                        <td id=\"T_94581_row2_col1\" class=\"data row2 col1\" >0.700000</td>\n",
       "                        <td id=\"T_94581_row2_col2\" class=\"data row2 col2\" >1.000000</td>\n",
       "                        <td id=\"T_94581_row2_col3\" class=\"data row2 col3\" >0.620000</td>\n",
       "                        <td id=\"T_94581_row2_col4\" class=\"data row2 col4\" >0.410000</td>\n",
       "                        <td id=\"T_94581_row2_col5\" class=\"data row2 col5\" >0.050000</td>\n",
       "                        <td id=\"T_94581_row2_col6\" class=\"data row2 col6\" >-0.220000</td>\n",
       "            </tr>\n",
       "            <tr>\n",
       "                        <th id=\"T_94581_level0_row3\" class=\"row_heading level0 row3\" >Life expectancy</th>\n",
       "                        <td id=\"T_94581_row3_col0\" class=\"data row3 col0\" >0.750000</td>\n",
       "                        <td id=\"T_94581_row3_col1\" class=\"data row3 col1\" >0.850000</td>\n",
       "                        <td id=\"T_94581_row3_col2\" class=\"data row3 col2\" >0.620000</td>\n",
       "                        <td id=\"T_94581_row3_col3\" class=\"data row3 col3\" >1.000000</td>\n",
       "                        <td id=\"T_94581_row3_col4\" class=\"data row3 col4\" >0.400000</td>\n",
       "                        <td id=\"T_94581_row3_col5\" class=\"data row3 col5\" >0.010000</td>\n",
       "                        <td id=\"T_94581_row3_col6\" class=\"data row3 col6\" >-0.330000</td>\n",
       "            </tr>\n",
       "            <tr>\n",
       "                        <th id=\"T_94581_level0_row4\" class=\"row_heading level0 row4\" >Freedom</th>\n",
       "                        <td id=\"T_94581_row4_col0\" class=\"data row4 col0\" >0.530000</td>\n",
       "                        <td id=\"T_94581_row4_col1\" class=\"data row4 col1\" >0.370000</td>\n",
       "                        <td id=\"T_94581_row4_col2\" class=\"data row4 col2\" >0.410000</td>\n",
       "                        <td id=\"T_94581_row4_col3\" class=\"data row4 col3\" >0.400000</td>\n",
       "                        <td id=\"T_94581_row4_col4\" class=\"data row4 col4\" >1.000000</td>\n",
       "                        <td id=\"T_94581_row4_col5\" class=\"data row4 col5\" >0.320000</td>\n",
       "                        <td id=\"T_94581_row4_col6\" class=\"data row4 col6\" >-0.480000</td>\n",
       "            </tr>\n",
       "            <tr>\n",
       "                        <th id=\"T_94581_level0_row5\" class=\"row_heading level0 row5\" >Generosity</th>\n",
       "                        <td id=\"T_94581_row5_col0\" class=\"data row5 col0\" >0.180000</td>\n",
       "                        <td id=\"T_94581_row5_col1\" class=\"data row5 col1\" >-0.020000</td>\n",
       "                        <td id=\"T_94581_row5_col2\" class=\"data row5 col2\" >0.050000</td>\n",
       "                        <td id=\"T_94581_row5_col3\" class=\"data row5 col3\" >0.010000</td>\n",
       "                        <td id=\"T_94581_row5_col4\" class=\"data row5 col4\" >0.320000</td>\n",
       "                        <td id=\"T_94581_row5_col5\" class=\"data row5 col5\" >1.000000</td>\n",
       "                        <td id=\"T_94581_row5_col6\" class=\"data row5 col6\" >-0.280000</td>\n",
       "            </tr>\n",
       "            <tr>\n",
       "                        <th id=\"T_94581_level0_row6\" class=\"row_heading level0 row6\" >corruption</th>\n",
       "                        <td id=\"T_94581_row6_col0\" class=\"data row6 col0\" >-0.430000</td>\n",
       "                        <td id=\"T_94581_row6_col1\" class=\"data row6 col1\" >-0.350000</td>\n",
       "                        <td id=\"T_94581_row6_col2\" class=\"data row6 col2\" >-0.220000</td>\n",
       "                        <td id=\"T_94581_row6_col3\" class=\"data row6 col3\" >-0.330000</td>\n",
       "                        <td id=\"T_94581_row6_col4\" class=\"data row6 col4\" >-0.480000</td>\n",
       "                        <td id=\"T_94581_row6_col5\" class=\"data row6 col5\" >-0.280000</td>\n",
       "                        <td id=\"T_94581_row6_col6\" class=\"data row6 col6\" >1.000000</td>\n",
       "            </tr>\n",
       "    </tbody></table>"
      ],
      "text/plain": [
       "<pandas.io.formats.style.Styler at 0x28e6a6c6f10>"
      ]
     },
     "execution_count": 27,
     "metadata": {},
     "output_type": "execute_result"
    }
   ],
   "source": [
    "corr_df = df2[['Ladder score','GDP', 'Social support', 'Life expectancy', 'Freedom', 'Generosity', 'corruption']]\n",
    "corr_df.corr().round(2).style.background_gradient(cmap='gray')"
   ]
  },
  {
   "cell_type": "code",
   "execution_count": 28,
   "id": "2d70f53d",
   "metadata": {},
   "outputs": [
    {
     "data": {
      "image/png": "[encoded data removed]",
      "text/plain": [
       "<Figure size 576x576 with 2 Axes>"
      ]
     },
     "metadata": {
      "needs_background": "light"
     },
     "output_type": "display_data"
    }
   ],
   "source": [
    "#Calculate the correlation matrix\n",
    "corr_df = df2[['Ladder score','GDP', 'Social support', 'Life expectancy', 'Freedom', 'Generosity', 'corruption']]\n",
    "data_corr = corr_df.corr()\n",
    "\n",
    "#Plot the matrix\n",
    "plt.rcParams[\"figure.figsize\"] = (8,8)\n",
    "plt.matshow(data_corr)\n",
    "\n",
    "plt.xticks(range(len(corr_df.columns)), corr_df.columns, rotation=90)\n",
    "plt.yticks(range(len(corr_df.columns)), corr_df.columns)\n",
    "\n",
    "plt.colorbar()\n",
    "\n",
    "plt.show()"
   ]
  },
  {
   "cell_type": "code",
   "execution_count": 29,
   "id": "f9304688",
   "metadata": {},
   "outputs": [
    {
     "data": {
      "text/plain": [
       "(2098, 9)"
      ]
     },
     "execution_count": 29,
     "metadata": {},
     "output_type": "execute_result"
    }
   ],
   "source": [
    "df2.shape"
   ]
  },
  {
   "cell_type": "code",
   "execution_count": 30,
   "id": "f352d85a",
   "metadata": {},
   "outputs": [
    {
     "data": {
      "text/plain": [
       "Country              0\n",
       "year                 0\n",
       "Ladder score         0\n",
       "GDP                 36\n",
       "Social support      13\n",
       "Life expectancy     55\n",
       "Freedom             32\n",
       "Generosity          89\n",
       "corruption         110\n",
       "dtype: int64"
      ]
     },
     "execution_count": 30,
     "metadata": {},
     "output_type": "execute_result"
    }
   ],
   "source": [
    "df2.isnull().sum()"
   ]
  },
  {
   "cell_type": "markdown",
   "id": "d7573f5f",
   "metadata": {},
   "source": [
    "### Multiple Regression Model"
   ]
  },
  {
   "cell_type": "code",
   "execution_count": 31,
   "id": "0c7c469f",
   "metadata": {},
   "outputs": [],
   "source": [
    "# missing_col = [['GDP', 'Social support', 'Life expectancy', 'Freedom', 'Generosity', 'corruption']]\n",
    "# for i in missing_col:\n",
    "# #     df2.loc[df2.loc[:,i].isnull(),i]=df2.loc[:,i].mean()"
   ]
  },
  {
   "cell_type": "code",
   "execution_count": 32,
   "id": "cf67f61d",
   "metadata": {},
   "outputs": [
    {
     "data": {
      "text/plain": [
       "(1861, 9)"
      ]
     },
     "execution_count": 32,
     "metadata": {},
     "output_type": "execute_result"
    }
   ],
   "source": [
    "data = df2.dropna(how='any',axis=0)\n",
    "data.shape"
   ]
  },
  {
   "cell_type": "code",
   "execution_count": 33,
   "id": "f954d31b",
   "metadata": {},
   "outputs": [
    {
     "data": {
      "text/plain": [
       "Country            0\n",
       "year               0\n",
       "Ladder score       0\n",
       "GDP                0\n",
       "Social support     0\n",
       "Life expectancy    0\n",
       "Freedom            0\n",
       "Generosity         0\n",
       "corruption         0\n",
       "dtype: int64"
      ]
     },
     "execution_count": 33,
     "metadata": {},
     "output_type": "execute_result"
    }
   ],
   "source": [
    "data.isnull().sum()"
   ]
  },
  {
   "cell_type": "code",
   "execution_count": null,
   "id": "e65bcbb4",
   "metadata": {
    "scrolled": true
   },
   "outputs": [],
   "source": []
  },
  {
   "cell_type": "code",
   "execution_count": null,
   "id": "7b227084",
   "metadata": {},
   "outputs": [],
   "source": []
  },
  {
   "cell_type": "markdown",
   "id": "6b5a41f7",
   "metadata": {},
   "source": [
    "# Random Forrest Regression"
   ]
  },
  {
   "cell_type": "code",
   "execution_count": 35,
   "id": "39a13b6f",
   "metadata": {},
   "outputs": [],
   "source": [
    "#Creating x and y\n",
    "\n",
    "x=pd.DataFrame(data[['GDP', 'Social support', 'Life expectancy', 'Freedom', 'Generosity', 'corruption']].values)\n",
    "y=pd.DataFrame(data[\"Ladder score\"].values)\n",
    "cols = data.drop(columns = 'Ladder score').columns"
   ]
  },
  {
   "cell_type": "code",
   "execution_count": 36,
   "id": "fb49d6f7",
   "metadata": {},
   "outputs": [],
   "source": [
    "x_train, x_test, y_train, y_test=train_test_split(x, y, test_size=.20)"
   ]
  },
  {
   "cell_type": "code",
   "execution_count": 37,
   "id": "0a7b6e89",
   "metadata": {},
   "outputs": [],
   "source": [
    "from sklearn.ensemble import RandomForestRegressor\n",
    "from sklearn.model_selection import cross_val_score"
   ]
  },
  {
   "cell_type": "code",
   "execution_count": 38,
   "id": "03051162",
   "metadata": {},
   "outputs": [
    {
     "name": "stdout",
     "output_type": "stream",
     "text": [
      "\n",
      " RMSE:  0.4681204438059882\n",
      "\n",
      " Cross Validation Score: \n",
      "[('Country', 0.8349783944044527), ('year', 0.8680753867734002), ('GDP', 0.8657561528933552), ('Social support', 0.8484919778766117), ('Life expectancy', 0.8621441114060168)]\n",
      "\n",
      " R^2 Value:  0.8229577136031092\n"
     ]
    }
   ],
   "source": [
    "#Creating object of Random Forest Regressor Class\n",
    "rfrmodel = RandomForestRegressor()\n",
    "\n",
    "#fixing reshape error\n",
    "y_train = y_train.values.ravel()\n",
    "\n",
    "#Fitting the data\n",
    "model = rfrmodel.fit(x_train,y_train)\n",
    "\n",
    "#test set predictions\n",
    "predictions_rf = model.predict(x_test)\n",
    "rmse_rf = mean_squared_error(y_test, predictions_rf, squared = False)\n",
    "print('\\n RMSE: ', rmse_rf)\n",
    "\n",
    "cross_val = cross_val_score(model, x_train, y_train)\n",
    "print('\\n Cross Validation Score: ')\n",
    "print(list(zip(cols, cross_val)))\n",
    "\n",
    "r2_rf = model.score(x_test, y_test)\n",
    "print('\\n R^2 Value: ', r2_rf)"
   ]
  },
  {
   "cell_type": "code",
   "execution_count": 39,
   "id": "919076a9",
   "metadata": {},
   "outputs": [],
   "source": [
    "# Import needed packages\n",
    "import numpy as np\n",
    "import pandas as pd\n",
    "import matplotlib.pyplot as plt\n",
    "import seaborn as sns\n",
    "\n",
    "from sklearn.model_selection import train_test_split\n",
    "from sklearn.ensemble import RandomForestClassifier\n",
    "from sklearn.metrics import accuracy_score, confusion_matrix, classification_report\n",
    "%matplotlib inline"
   ]
  },
  {
   "cell_type": "code",
   "execution_count": 40,
   "id": "c0d0589a",
   "metadata": {},
   "outputs": [],
   "source": [
    "#Creating 6 models to look at Ladder Score vs the six factors"
   ]
  },
  {
   "cell_type": "code",
   "execution_count": 41,
   "id": "00ead8b7",
   "metadata": {},
   "outputs": [],
   "source": [
    "A=data['GDP'].values\n",
    "a=data[\"Ladder score\"].values\n",
    "\n",
    "A_train, A_test, a_train, a_test=train_test_split(A, a, test_size=.20)\n",
    "\n",
    "regressor = RandomForestRegressor(n_estimators = 10, random_state = 0)\n",
    "\n",
    "A_train = A_train.reshape(-1,1)\n",
    "a_train = a_train.reshape(-1,1).ravel()\n",
    "regressor.fit(A_train, a_train)\n",
    "\n",
    "a_pred = regressor.predict(A_test.reshape(-1,1))\n",
    "\n",
    "\n",
    "B=data['Social support'].values\n",
    "b=data[\"Ladder score\"].values\n",
    "\n",
    "B_train, B_test, b_train, b_test=train_test_split(B, b, test_size=.20)\n",
    "\n",
    "regressor = RandomForestRegressor(n_estimators = 10, random_state = 0)\n",
    "\n",
    "B_train = B_train.reshape(-1,1)\n",
    "b_train = b_train.reshape(-1,1).ravel()\n",
    "regressor.fit(B_train, b_train)\n",
    "\n",
    "b_pred = regressor.predict(B_test.reshape(-1,1))\n",
    "\n",
    "\n",
    "C=data['Life expectancy'].values\n",
    "c=data[\"Ladder score\"].values\n",
    "\n",
    "C_train, C_test, c_train, c_test=train_test_split(C, c, test_size=.20)\n",
    "\n",
    "regressor = RandomForestRegressor(n_estimators = 10, random_state = 0)\n",
    "\n",
    "C_train = C_train.reshape(-1,1)\n",
    "c_train = c_train.reshape(-1,1).ravel()\n",
    "regressor.fit(C_train, c_train)\n",
    "\n",
    "c_pred = regressor.predict(C_test.reshape(-1,1))\n",
    "\n",
    "\n",
    "D=data['Freedom'].values\n",
    "d=data[\"Ladder score\"].values\n",
    "\n",
    "D_train, D_test, d_train, d_test=train_test_split(D, d, test_size=.20)\n",
    "\n",
    "regressor = RandomForestRegressor(n_estimators = 10, random_state = 0)\n",
    "\n",
    "D_train = D_train.reshape(-1,1)\n",
    "d_train = d_train.reshape(-1,1).ravel()\n",
    "regressor.fit(D_train, d_train)\n",
    "\n",
    "d_pred = regressor.predict(D_test.reshape(-1,1))\n",
    "\n",
    "\n",
    "E=data['Generosity'].values\n",
    "e=data[\"Ladder score\"].values\n",
    "\n",
    "E_train, E_test, e_train, e_test=train_test_split(E, e, test_size=.20)\n",
    "\n",
    "regressor = RandomForestRegressor(n_estimators = 10, random_state = 0)\n",
    "\n",
    "E_train = E_train.reshape(-1,1)\n",
    "e_train = e_train.reshape(-1,1).ravel()\n",
    "regressor.fit(E_train, e_train)\n",
    "\n",
    "e_pred = regressor.predict(E_test.reshape(-1,1))\n",
    "\n",
    "\n",
    "F=data['corruption'].values\n",
    "f=data[\"Ladder score\"].values\n",
    "\n",
    "F_train, F_test, f_train, f_test=train_test_split(F, f, test_size=.20)\n",
    "\n",
    "regressor = RandomForestRegressor(n_estimators = 10, random_state = 0)\n",
    "\n",
    "F_train = F_train.reshape(-1,1)\n",
    "f_train = f_train.reshape(-1,1).ravel()\n",
    "regressor.fit(F_train, f_train)\n",
    "\n",
    "f_pred = regressor.predict(F_test.reshape(-1,1))\n"
   ]
  },
  {
   "cell_type": "code",
   "execution_count": 47,
   "id": "cbec596e",
   "metadata": {},
   "outputs": [
    {
     "data": {
      "image/png": "[encoded data removed]",
      "text/plain": [
       "<Figure size 864x720 with 6 Axes>"
      ]
     },
     "metadata": {
      "needs_background": "light"
     },
     "output_type": "display_data"
    }
   ],
   "source": [
    "#Plotting scatter plots Red = real values, Green = predicted\n",
    "\n",
    "fig, ((ax1, ax2), (ax3, ax4), (ax5, ax6) ) = plt.subplots(3, 2, figsize=(12, 10), constrained_layout=True)\n",
    "\n",
    "# plot 1st one \n",
    "ax1.grid()\n",
    "ax1.scatter(A_test, a_test, color = 'red')\n",
    "ax1.scatter(A_test, a_pred, color='green')\n",
    "ax1.set_ylabel('Ladder score', fontsize=10)\n",
    "ax1.set_xlabel('GDP', fontsize=10)\n",
    "ax1.title.set_text('GDP and Ladder score')\n",
    "\n",
    "# plot 2nd one \n",
    "ax2.grid()\n",
    "ax2.scatter(B_test, b_test, color = 'red')\n",
    "ax2.scatter(B_test, b_pred, color='green')\n",
    "ax2.set_ylabel('Ladder score', fontsize=10)\n",
    "ax2.set_xlabel('Social Support', fontsize=10)\n",
    "ax2.title.set_text('Social Support and Ladder score')\n",
    "\n",
    "# plot 3rd one \n",
    "ax3.grid()\n",
    "ax3.scatter(C_test, c_test, color = 'red')\n",
    "ax3.scatter(C_test, c_pred, color='green')\n",
    "ax3.set_ylabel('Ladder score', fontsize=10)\n",
    "ax3.set_xlabel('Life expectancy', fontsize=10)\n",
    "ax3.title.set_text('Life expectancy and Ladder score')\n",
    "\n",
    "# plot 4th one \n",
    "ax4.grid()\n",
    "ax4.scatter(D_test, d_test, color = 'red')\n",
    "ax4.scatter(D_test, d_pred, color='green')\n",
    "ax4.set_ylabel('Ladder score', fontsize=10)\n",
    "ax4.set_xlabel('Freedom', fontsize=10)\n",
    "ax4.title.set_text('Freedom and Ladder score')\n",
    "\n",
    "# plot 5th one \n",
    "ax5.grid()\n",
    "ax5.scatter(E_test, e_test, color = 'red')\n",
    "ax5.scatter(E_test, e_pred, color='green')\n",
    "ax5.set_ylabel('Ladder score', fontsize=10)\n",
    "ax5.set_xlabel('Generosity', fontsize=10)\n",
    "ax5.title.set_text('Generosity and Ladder score')\n",
    "\n",
    "# plot 6th one \n",
    "ax6.grid()\n",
    "ax6.scatter(F_test, f_test, color = 'red')\n",
    "ax6.scatter(F_test, f_pred, color='green')\n",
    "ax6.set_ylabel('Ladder score', fontsize=10)\n",
    "ax6.set_xlabel('corruption', fontsize=10)\n",
    "ax6.title.set_text('Corruption and Ladder score')"
   ]
  },
  {
   "cell_type": "code",
   "execution_count": 48,
   "id": "cef77b7e",
   "metadata": {},
   "outputs": [
    {
     "data": {
      "text/plain": [
       "Text(0.5, 1.0, 'GDP vs Ladder score')"
      ]
     },
     "execution_count": 48,
     "metadata": {},
     "output_type": "execute_result"
    },
    {
     "data": {
      "image/png": "[encoded data removed]",
      "text/plain": [
       "<Figure size 432x288 with 1 Axes>"
      ]
     },
     "metadata": {
      "needs_background": "light"
     },
     "output_type": "display_data"
    }
   ],
   "source": [
    "x=data['GDP'].values\n",
    "y=data['Ladder score'].values\n",
    "\n",
    "LR = LinearRegression()\n",
    "\n",
    "x_train, x_test, y_train, y_test=train_test_split(x, y, test_size=.20)\n",
    "\n",
    "# fitting the training data\n",
    "LR.fit(x_train.reshape(-1,1),y_train.reshape(-1,1).ravel())\n",
    "\n",
    "regr = linear_model.LinearRegression()\n",
    "#regr.fit(x, y)\n",
    "\n",
    "y_pred = LR.predict(x_test.reshape(-1,1))\n",
    "\n",
    "plt.grid()\n",
    "plt.scatter(x_test, y_test, color = 'red')\n",
    "plt.scatter(x_test, y_pred, c='orange', marker='o')\n",
    "plt.ylabel('Ladder score', fontsize=10)\n",
    "plt.xlabel('GDP', fontsize=10)\n",
    "plt.title('GDP vs Ladder score')\n",
    "\n"
   ]
  },
  {
   "cell_type": "code",
   "execution_count": 49,
   "id": "6571ab75",
   "metadata": {},
   "outputs": [
    {
     "data": {
      "text/plain": [
       "Text(0.5, 1.0, 'Social vs Ladder score')"
      ]
     },
     "execution_count": 49,
     "metadata": {},
     "output_type": "execute_result"
    },
    {
     "data": {
      "image/png": "[encoded data removed]",
      "text/plain": [
       "<Figure size 432x288 with 1 Axes>"
      ]
     },
     "metadata": {
      "needs_background": "light"
     },
     "output_type": "display_data"
    }
   ],
   "source": [
    "N=data['Social support'].values\n",
    "n=data['Ladder score'].values\n",
    "\n",
    "LR = LinearRegression()\n",
    "\n",
    "N_train, N_test, n_train, n_test=train_test_split(N, n, test_size=.20)\n",
    "\n",
    "# fitting the training data\n",
    "LR.fit(N_train.reshape(-1,1),n_train.reshape(-1,1).ravel())\n",
    "\n",
    "regr = linear_model.LinearRegression()\n",
    "#regr.fit(x, y)\n",
    "\n",
    "n_pred = LR.predict(N_test.reshape(-1,1))\n",
    "\n",
    "plt.grid()\n",
    "plt.scatter(N_test, n_test, color = 'red')\n",
    "plt.scatter(N_test, n_pred, c='orange', marker='o')\n",
    "plt.ylabel('Ladder score', fontsize=10)\n",
    "plt.xlabel('Socal', fontsize=10)\n",
    "plt.title('Social vs Ladder score')\n",
    "\n"
   ]
  },
  {
   "cell_type": "code",
   "execution_count": null,
   "id": "738a241d",
   "metadata": {},
   "outputs": [],
   "source": []
  }
 ],
 "metadata": {
  "kernelspec": {
   "display_name": "Python 3",
   "language": "python",
   "name": "python3"
  },
  "language_info": {
   "codemirror_mode": {
    "name": "ipython",
    "version": 3
   },
   "file_extension": ".py",
   "mimetype": "text/x-python",
   "name": "python",
   "nbconvert_exporter": "python",
   "pygments_lexer": "ipython3",
   "version": "3.8.8"
  }
 },
 "nbformat": 4,
 "nbformat_minor": 5
}
